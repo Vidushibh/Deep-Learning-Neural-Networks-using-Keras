{
 "cells": [
  {
   "cell_type": "code",
   "execution_count": 1,
   "id": "d6fd8f66",
   "metadata": {},
   "outputs": [],
   "source": [
    "import pandas as pd\n",
    "import keras\n",
    "from keras.models import Sequential\n",
    "from keras.layers import Dense\n",
    "from keras.utils import to_categorical\n",
    "from sklearn.model_selection import train_test_split\n",
    "from sklearn.metrics import mean_squared_error"
   ]
  },
  {
   "cell_type": "code",
   "execution_count": 2,
   "id": "7eac3b8e",
   "metadata": {},
   "outputs": [],
   "source": [
    "from keras.layers import Conv2D\n",
    "from keras.layers import MaxPooling2D\n",
    "from keras.layers import Flatten"
   ]
  },
  {
   "cell_type": "code",
   "execution_count": 3,
   "id": "3aa26534",
   "metadata": {},
   "outputs": [],
   "source": [
    "from keras.datasets import mnist"
   ]
  },
  {
   "cell_type": "code",
   "execution_count": 4,
   "id": "c68e5b29",
   "metadata": {},
   "outputs": [
    {
     "name": "stdout",
     "output_type": "stream",
     "text": [
      "(60000, 28, 28)\n",
      "(60000,)\n",
      "(10000, 28, 28)\n",
      "(10000,)\n"
     ]
    }
   ],
   "source": [
    "(X_train, y_train),(X_test,y_test) = mnist.load_data()\n",
    "print(X_train.shape)\n",
    "print(y_train.shape)\n",
    "print(X_test.shape)\n",
    "print(y_test.shape)"
   ]
  },
  {
   "cell_type": "code",
   "execution_count": 5,
   "id": "445a06de",
   "metadata": {},
   "outputs": [],
   "source": [
    "from PIL import Image\n",
    "image = Image.fromarray(X_train[0])\n",
    "image.show()"
   ]
  },
  {
   "cell_type": "code",
   "execution_count": 6,
   "id": "209204be",
   "metadata": {},
   "outputs": [],
   "source": [
    "# reshape to be [samples][pixels][width][height]\n",
    "X_train = X_train.reshape(X_train.shape[0], 28, 28, 1).astype('float32')\n",
    "X_test  = X_test.reshape(X_test.shape[0], 28, 28, 1).astype('float32')"
   ]
  },
  {
   "cell_type": "code",
   "execution_count": 7,
   "id": "da6cc330",
   "metadata": {},
   "outputs": [],
   "source": [
    "# Normalize training data\n",
    "X_train = X_train / 255\n",
    "X_test  = X_test  / 255"
   ]
  },
  {
   "cell_type": "code",
   "execution_count": 9,
   "id": "79035b7d",
   "metadata": {},
   "outputs": [],
   "source": [
    "classes = 10\n",
    "# Convert target variable into Binary variables\n",
    "y_train = to_categorical(y_train, classes)\n",
    "y_test  = to_categorical(y_test, classes)"
   ]
  },
  {
   "cell_type": "code",
   "execution_count": 10,
   "id": "3c856d9c",
   "metadata": {},
   "outputs": [
    {
     "name": "stdout",
     "output_type": "stream",
     "text": [
      "(60000, 28, 28, 1)\n",
      "(60000, 10)\n",
      "(10000, 28, 28, 1)\n",
      "(10000, 10)\n"
     ]
    }
   ],
   "source": [
    "print(X_train.shape)\n",
    "print(y_train.shape)\n",
    "print(X_test.shape)\n",
    "print(y_test.shape)"
   ]
  },
  {
   "cell_type": "code",
   "execution_count": 11,
   "id": "22ed5b36",
   "metadata": {},
   "outputs": [],
   "source": [
    "def convolutional_model():\n",
    "    \n",
    "    # create model\n",
    "    model = Sequential()\n",
    "    model.add(Conv2D(16, (5, 5), strides=(1, 1), activation='relu', input_shape=(28, 28, 1)))\n",
    "    model.add(MaxPooling2D(pool_size=(2, 2), strides=(2, 2)))\n",
    "    \n",
    "    model.add(Flatten())\n",
    "    model.add(Dense(100, activation='relu'))\n",
    "    model.add(Dense(classes, activation='softmax'))\n",
    "    \n",
    "    # compile model\n",
    "    model.compile(optimizer='adam', loss='categorical_crossentropy',  metrics=['accuracy'])\n",
    "    return model"
   ]
  },
  {
   "cell_type": "code",
   "execution_count": 12,
   "id": "3fb3d1d1",
   "metadata": {
    "scrolled": true
   },
   "outputs": [
    {
     "name": "stdout",
     "output_type": "stream",
     "text": [
      "Epoch 1/10\n"
     ]
    },
    {
     "name": "stderr",
     "output_type": "stream",
     "text": [
      "/Users/vidushibhargava/anaconda3/lib/python3.11/site-packages/keras/src/layers/convolutional/base_conv.py:99: UserWarning: Do not pass an `input_shape`/`input_dim` argument to a layer. When using Sequential models, prefer using an `Input(shape)` object as the first layer in the model instead.\n",
      "  super().__init__(\n"
     ]
    },
    {
     "name": "stdout",
     "output_type": "stream",
     "text": [
      "300/300 - 4s - 12ms/step - accuracy: 0.9082 - loss: 0.3191 - val_accuracy: 0.9655 - val_loss: 0.1194\n",
      "Epoch 2/10\n",
      "300/300 - 3s - 11ms/step - accuracy: 0.9705 - loss: 0.1027 - val_accuracy: 0.9771 - val_loss: 0.0719\n",
      "Epoch 3/10\n",
      "300/300 - 3s - 11ms/step - accuracy: 0.9802 - loss: 0.0667 - val_accuracy: 0.9806 - val_loss: 0.0617\n",
      "Epoch 4/10\n",
      "300/300 - 3s - 10ms/step - accuracy: 0.9847 - loss: 0.0513 - val_accuracy: 0.9840 - val_loss: 0.0502\n",
      "Epoch 5/10\n",
      "300/300 - 3s - 11ms/step - accuracy: 0.9873 - loss: 0.0421 - val_accuracy: 0.9855 - val_loss: 0.0453\n",
      "Epoch 6/10\n",
      "300/300 - 3s - 11ms/step - accuracy: 0.9896 - loss: 0.0345 - val_accuracy: 0.9858 - val_loss: 0.0442\n",
      "Epoch 7/10\n",
      "300/300 - 3s - 11ms/step - accuracy: 0.9911 - loss: 0.0295 - val_accuracy: 0.9855 - val_loss: 0.0427\n",
      "Epoch 8/10\n",
      "300/300 - 3s - 11ms/step - accuracy: 0.9926 - loss: 0.0238 - val_accuracy: 0.9866 - val_loss: 0.0385\n",
      "Epoch 9/10\n",
      "300/300 - 3s - 11ms/step - accuracy: 0.9939 - loss: 0.0204 - val_accuracy: 0.9881 - val_loss: 0.0387\n",
      "Epoch 10/10\n",
      "300/300 - 3s - 11ms/step - accuracy: 0.9943 - loss: 0.0181 - val_accuracy: 0.9872 - val_loss: 0.0409\n",
      "Accuracy: 0.9872000217437744 \n",
      " Error: 1.2799978256225586\n"
     ]
    }
   ],
   "source": [
    "# build the model\n",
    "model = convolutional_model()\n",
    "\n",
    "# fit the model\n",
    "model.fit(X_train, y_train, validation_data=(X_test, y_test), epochs=10, batch_size=200, verbose=2)\n",
    "\n",
    "# evaluate the model\n",
    "scores = model.evaluate(X_test, y_test, verbose=0)\n",
    "print(\"Accuracy: {} \\n Error: {}\".format(scores[1], 100-scores[1]*100))"
   ]
  }
 ],
 "metadata": {
  "kernelspec": {
   "display_name": "Python 3 (ipykernel)",
   "language": "python",
   "name": "python3"
  },
  "language_info": {
   "codemirror_mode": {
    "name": "ipython",
    "version": 3
   },
   "file_extension": ".py",
   "mimetype": "text/x-python",
   "name": "python",
   "nbconvert_exporter": "python",
   "pygments_lexer": "ipython3",
   "version": "3.11.5"
  }
 },
 "nbformat": 4,
 "nbformat_minor": 5
}
